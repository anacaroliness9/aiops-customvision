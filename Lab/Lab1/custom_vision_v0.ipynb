{
 "cells": [
  {
   "cell_type": "markdown",
   "metadata": {},
   "source": [
    "# Azure Cognitive Services: Custom Vision\r\n",
    "\r\n",
    "  References: \r\n",
    "  * Portal: [https://www.customvision.ai/](https://www.customvision.ai/)\r\n",
    "  * SDK: [https://docs.microsoft.com/pt-br/azure/cognitive-services/custom-vision-service/quickstarts/image-classification?tabs=visual-studio&pivots=programming-language-python](https://docs.microsoft.com/pt-br/azure/cognitive-services/custom-vision-service/quickstarts/image-classification?tabs=visual-studio&pivots=programming-language-python)\r\n",
    "  * APIs:\r\n",
    "    - Custom Vision Training: [https://westus2.dev.cognitive.microsoft.com/docs/services/Custom_Vision_Training_3.3/](https://westus2.dev.cognitive.microsoft.com/docs/services/Custom_Vision_Training_3.3/)\r\n",
    "    - Custom Vision Prediction: [https://eastus.dev.cognitive.microsoft.com/docs/services/Custom_Vision_Prediction_3.1/](https://eastus.dev.cognitive.microsoft.com/docs/services/Custom_Vision_Prediction_3.1/)\r\n",
    "  * This code was adapted from [AI-102-AIEngineer: 17-image-classification](https://github.com/MicrosoftLearning/AI-102-AIEngineer/tree/master/17-image-classification)\r\n"
   ]
  },
  {
   "cell_type": "code",
   "execution_count": 2,
   "metadata": {},
   "outputs": [],
   "source": [
    "!pip install azure-cognitiveservices-vision-customvision"
   ]
  },
  {
   "cell_type": "code",
   "execution_count": 51,
   "metadata": {},
   "outputs": [],
   "source": [
    "from azure.cognitiveservices.vision.customvision.training import CustomVisionTrainingClient\r\n",
    "from azure.cognitiveservices.vision.customvision.prediction import CustomVisionPredictionClient\r\n",
    "from azure.cognitiveservices.vision.customvision.training.models import ImageFileCreateBatch, ImageFileCreateEntry, Region\r\n",
    "from msrest.authentication import ApiKeyCredentials\r\n",
    "import time\r\n",
    "from os import path\r\n",
    "from dotenv import load_dotenv\r\n",
    "\r\n",
    "from sklearn import metrics\r\n",
    "import requests\r\n",
    "import os\r\n",
    "import yaml\r\n",
    "\r\n",
    "import numpy as np\r\n",
    "import matplotlib.pyplot as plt\r\n",
    "import itertools\r\n",
    "import time\r\n",
    "\r\n",
    "from sklearn.metrics import confusion_matrix\r\n"
   ]
  },
  {
   "cell_type": "code",
   "execution_count": 52,
   "metadata": {},
   "outputs": [
    {
     "name": "stdout",
     "output_type": "stream",
     "text": [
      "c:\\Users\\anacarolines\\OneDrive - Microsoft\\Projetos\\aiops-customvision\\Config\\config.yaml\n"
     ]
    }
   ],
   "source": [
    "cwd = os.getcwd()\r\n",
    "project_dir =os.path.abspath(os.path.join(cwd, os.path.join(os.pardir, os.pardir)))\r\n",
    "config_file = os.path.join(project_dir, \"Config\", \"config.yaml\")\r\n",
    "print(config_file)\r\n",
    "\r\n",
    "with open(config_file, 'r') as ymlfile:\r\n",
    "    config = yaml.load(ymlfile, Loader=yaml.FullLoader)\r\n"
   ]
  },
  {
   "cell_type": "code",
   "execution_count": 73,
   "metadata": {},
   "outputs": [],
   "source": [
    "train_endpoint = config['cv']['TrainingEndpoint']\r\n",
    "training_key = config['cv']['TrainingKey']\r\n",
    "project_id = config['cv']['ProjectID']\r\n",
    "pred_endpoint = config['cv']['PredictionEndpoint']\r\n",
    "prediction_key = config['cv']['PredictionKey']\r\n",
    "prediction_resource_id = \"/subscriptions/8d47f388-3a7a-4970-9dec-2c6cc53e02a9/resourceGroups/rg_chihuahua_muffin/providers/Microsoft.CognitiveServices/accounts/cmcustomvision-prediction\"\r\n",
    "\r\n",
    "project_name = 'fruit-classifier4'\r\n",
    "publish_iteration_name = \"v0\"\r\n",
    "path_training_images = os.path.join(project_dir, \"Deploy\", \"training-images\")"
   ]
  },
  {
   "cell_type": "markdown",
   "metadata": {},
   "source": [
    "Authenticate the client\n"
   ]
  },
  {
   "cell_type": "code",
   "execution_count": 61,
   "metadata": {},
   "outputs": [],
   "source": [
    "credentials = ApiKeyCredentials(in_headers={\"Training-key\": training_key})\r\n",
    "trainer = CustomVisionTrainingClient(train_endpoint, credentials)\r\n",
    "prediction_credentials = ApiKeyCredentials(in_headers={\"Prediction-key\": prediction_key})\r\n",
    "predictor = CustomVisionPredictionClient(pred_endpoint, prediction_credentials)"
   ]
  },
  {
   "cell_type": "markdown",
   "metadata": {},
   "source": [
    "## Create a new Custom Vision project\r\n"
   ]
  },
  {
   "cell_type": "code",
   "execution_count": 86,
   "metadata": {},
   "outputs": [],
   "source": [
    "credentials = ApiKeyCredentials(in_headers={\"Training-key\": training_key})\r\n",
    "\r\n",
    "\r\n",
    "def create_project(project_name):\r\n",
    "    # Create a new project\r\n",
    "    print (\"Creating project...\")\r\n",
    "    return trainer.create_project(project_name)\r\n",
    "\r\n",
    "def delete_project(project_id):\r\n",
    "    print (\"Deleting project...\")\r\n",
    "    trainer.delete_project(project_id)\r\n",
    "    \r\n",
    "def get_projects():\r\n",
    "    return trainer.get_projects(raw=True).response.json()\r\n"
   ]
  },
  {
   "cell_type": "code",
   "execution_count": 87,
   "metadata": {},
   "outputs": [
    {
     "data": {
      "text/plain": "['fruit-classifier3', 'fruit-classifier2', 'chihuahua-muffin']"
     },
     "execution_count": 87,
     "metadata": {},
     "output_type": "execute_result"
    }
   ],
   "source": [
    "[i['name'] for i in get_projects()]"
   ]
  },
  {
   "cell_type": "code",
   "execution_count": 88,
   "metadata": {},
   "outputs": [
    {
     "name": "stdout",
     "output_type": "stream",
     "text": [
      "b58b8486-1acd-4236-aa29-b9d4ac2ce906\n"
     ]
    }
   ],
   "source": [
    "#trainer.unpublish_iteration(project.id, iteration.id)\r\n",
    "#trainer.delete_project(trainer.get_projects()[0].id)\r\n",
    "project = trainer.create_project(project_name)\r\n",
    "\r\n",
    "# ------> Adicionar o project id no config.yaml\r\n",
    "print(project.id)\r\n"
   ]
  },
  {
   "cell_type": "code",
   "execution_count": 90,
   "metadata": {},
   "outputs": [
    {
     "data": {
      "text/plain": "['fruit-classifier4',\n 'fruit-classifier3',\n 'fruit-classifier2',\n 'chihuahua-muffin']"
     },
     "execution_count": 90,
     "metadata": {},
     "output_type": "execute_result"
    }
   ],
   "source": [
    "[i['name'] for i in get_projects()]"
   ]
  },
  {
   "cell_type": "markdown",
   "metadata": {},
   "source": [
    "## Add tags to the project\r\n"
   ]
  },
  {
   "cell_type": "code",
   "execution_count": 91,
   "metadata": {},
   "outputs": [],
   "source": [
    "def get_dir_names(path_training_images):\r\n",
    "    return [dI for dI in os.listdir(path_training_images) \r\n",
    "        if os.path.isdir(os.path.join(path_training_images,dI))]\r\n"
   ]
  },
  {
   "cell_type": "code",
   "execution_count": 92,
   "metadata": {},
   "outputs": [
    {
     "name": "stdout",
     "output_type": "stream",
     "text": [
      "['apple', 'banana', 'orange']\n"
     ]
    }
   ],
   "source": [
    "tags = get_dir_names(path_training_images)\r\n",
    "print(tags)"
   ]
  },
  {
   "cell_type": "code",
   "execution_count": 93,
   "metadata": {},
   "outputs": [],
   "source": [
    "def get_tags(project_id):\r\n",
    "    tags = list()\r\n",
    "    for i in trainer.get_tags(project_id):\r\n",
    "        tags.append( i.name)\r\n",
    "    return tags\r\n",
    "\r\n",
    "def create_tags (project_id, tags):\r\n",
    "    for i in tags:\r\n",
    "        if i not in get_tags(project.id):\r\n",
    "            trainer.create_tag(project.id, i)"
   ]
  },
  {
   "cell_type": "code",
   "execution_count": 94,
   "metadata": {},
   "outputs": [
    {
     "data": {
      "text/plain": "[]"
     },
     "execution_count": 94,
     "metadata": {},
     "output_type": "execute_result"
    }
   ],
   "source": [
    "get_tags(project.id)"
   ]
  },
  {
   "cell_type": "code",
   "execution_count": 95,
   "metadata": {},
   "outputs": [],
   "source": [
    "create_tags(project.id, tags)"
   ]
  },
  {
   "cell_type": "code",
   "execution_count": 96,
   "metadata": {},
   "outputs": [
    {
     "data": {
      "text/plain": "['orange', 'apple', 'banana']"
     },
     "execution_count": 96,
     "metadata": {},
     "output_type": "execute_result"
    }
   ],
   "source": [
    "get_tags(project.id)"
   ]
  },
  {
   "cell_type": "markdown",
   "metadata": {},
   "source": [
    "## Upload images\r\n"
   ]
  },
  {
   "cell_type": "code",
   "execution_count": 97,
   "metadata": {},
   "outputs": [],
   "source": [
    "def upload_images(folder):\r\n",
    "    print(\"Uploading images...\")\r\n",
    "    tags = trainer.get_tags(project.id)\r\n",
    "    for tag in tags:\r\n",
    "        print(tag.name)\r\n",
    "        for image in os.listdir(os.path.join(folder,tag.name)):\r\n",
    "            image_data = open(os.path.join(folder,tag.name,image), \"rb\").read()\r\n",
    "            trainer.create_images_from_data(project.id, image_data, [tag.id])\r\n"
   ]
  },
  {
   "cell_type": "code",
   "execution_count": 98,
   "metadata": {},
   "outputs": [
    {
     "name": "stdout",
     "output_type": "stream",
     "text": [
      "Uploading images...\n",
      "orange\n",
      "apple\n",
      "banana\n"
     ]
    }
   ],
   "source": [
    "upload_images(path_training_images)"
   ]
  },
  {
   "cell_type": "markdown",
   "metadata": {},
   "source": [
    "## Train Model"
   ]
  },
  {
   "cell_type": "code",
   "execution_count": 99,
   "metadata": {},
   "outputs": [],
   "source": [
    "def train_model():\r\n",
    "    print(\"Training ...\")\r\n",
    "    #:param training_type: The type of training to use to train the project\r\n",
    "    #     (default: Regular). Possible values include: 'Regular', 'Advanced'\r\n",
    "    iteration = trainer.train_project(project.id)\r\n",
    "    while (iteration.status != \"Completed\"):\r\n",
    "        iteration = trainer.get_iteration(project.id, iteration.id)\r\n",
    "        print (iteration.status, '...')\r\n",
    "        time.sleep(10)\r\n",
    "    print (\"Model trained!\")\r\n",
    "    print (\"Iteration id: \" + iteration.id)\r\n",
    "    print (\"Iteration name: \" + iteration.name)\r\n",
    "    return iteration"
   ]
  },
  {
   "cell_type": "code",
   "execution_count": 100,
   "metadata": {},
   "outputs": [
    {
     "name": "stdout",
     "output_type": "stream",
     "text": [
      "Training ...\n",
      "Training ...\n",
      "Training ...\n",
      "Training ...\n",
      "Training ...\n",
      "Training ...\n",
      "Training ...\n",
      "Training ...\n",
      "Training ...\n",
      "Training ...\n",
      "Training ...\n",
      "Training ...\n",
      "Training ...\n",
      "Training ...\n",
      "Training ...\n",
      "Training ...\n",
      "Training ...\n",
      "Training ...\n",
      "Training ...\n",
      "Training ...\n",
      "Training ...\n",
      "Training ...\n",
      "Training ...\n",
      "Training ...\n",
      "Training ...\n",
      "Training ...\n",
      "Training ...\n",
      "Training ...\n",
      "Training ...\n",
      "Training ...\n",
      "Training ...\n",
      "Training ...\n",
      "Training ...\n",
      "Training ...\n",
      "Training ...\n",
      "Training ...\n",
      "Training ...\n",
      "Training ...\n",
      "Training ...\n",
      "Training ...\n",
      "Training ...\n",
      "Training ...\n",
      "Training ...\n",
      "Training ...\n",
      "Training ...\n",
      "Training ...\n",
      "Training ...\n",
      "Training ...\n",
      "Training ...\n",
      "Training ...\n",
      "Training ...\n",
      "Training ...\n",
      "Training ...\n",
      "Training ...\n",
      "Training ...\n",
      "Training ...\n",
      "Training ...\n",
      "Training ...\n",
      "Training ...\n",
      "Training ...\n",
      "Training ...\n",
      "Training ...\n",
      "Training ...\n",
      "Completed ...\n",
      "Model trained!\n",
      "Iteration id: ef230bb5-15a7-4b18-a1c0-2bb5a8824826\n",
      "Iteration name: Iteration 1\n"
     ]
    }
   ],
   "source": [
    "iteration = train_model()"
   ]
  },
  {
   "cell_type": "markdown",
   "metadata": {},
   "source": [
    "## Model Evaluation\r\n"
   ]
  },
  {
   "cell_type": "code",
   "execution_count": null,
   "metadata": {},
   "outputs": [],
   "source": [
    "training_results = trainer.get_image_performances(project.id, iteration.id,raw=True).response.json()\r\n",
    "total_imgs = trainer.get_tagged_image_count(project.id)\r\n",
    "\r\n",
    "y_true = []\r\n",
    "y_pred = []\r\n",
    "for i in training_results:\r\n",
    "    y_pred.append(i[\"predictions\"][0][\"tagName\"])\r\n",
    "    y_true.append(i[\"tags\"][0][\"tagName\"]) \r\n",
    "\r\n",
    "print(y_true)\r\n",
    "print(y_pred)\r\n",
    "\r\n",
    "print(\"\\nTotal Images: \" + str(total_imgs))\r\n",
    "print(\"Trained Images: \" + str(len(training_results)))\r\n",
    "print(\"Splitted Train/Test: {}/{}\".format(str(100-int(len(training_results)*100/total_imgs)),str(int(len(training_results)*100/total_imgs))))"
   ]
  },
  {
   "cell_type": "code",
   "execution_count": null,
   "metadata": {},
   "outputs": [],
   "source": [
    "len(training_results)"
   ]
  },
  {
   "cell_type": "code",
   "execution_count": 103,
   "metadata": {},
   "outputs": [
    {
     "name": "stdout",
     "output_type": "stream",
     "text": [
      "['banana', 'banana', 'banana', 'apple', 'apple', 'apple', 'orange', 'orange', 'orange']\n",
      "['banana', 'banana', 'banana', 'apple', 'apple', 'apple', 'orange', 'orange', 'orange']\n",
      "\n",
      "Total Images: 45\n",
      "Trained Images: 9\n",
      "Splitted Train/Test: 80/20\n"
     ]
    },
    {
     "data": {
      "text/plain": "9"
     },
     "execution_count": 102,
     "metadata": {},
     "output_type": "execute_result"
    }
   ],
   "source": [
    "def plot_confusion_matrix(cm, classes,\r\n",
    "                          normalize=False,\r\n",
    "                          title='Confusion matrix',\r\n",
    "                          cmap=plt.cm.Blues):\r\n",
    "    \"\"\"\r\n",
    "    This function prints and plots the confusion matrix.\r\n",
    "    Normalization can be applied by setting `normalize=True`.\r\n",
    "    \"\"\"\r\n",
    "    plt.imshow(cm, interpolation='nearest', cmap=cmap)\r\n",
    "    plt.title(title)\r\n",
    "    plt.colorbar()\r\n",
    "    tick_marks = np.arange(len(classes))\r\n",
    "    plt.xticks(tick_marks, classes, rotation=45)\r\n",
    "    plt.yticks(tick_marks, classes)\r\n",
    "\r\n",
    "    if normalize:\r\n",
    "        cm = cm.astype('float') / cm.sum(axis=1)[:, np.newaxis]\r\n",
    "        print(\"Normalized confusion matrix\")\r\n",
    "    else:\r\n",
    "        print('Confusion matrix, without normalization')\r\n",
    "\r\n",
    "    print(cm)\r\n",
    "\r\n",
    "    thresh = cm.max() / 2.\r\n",
    "    for i, j in itertools.product(range(cm.shape[0]), range(cm.shape[1])):\r\n",
    "        plt.text(j, i, cm[i, j],\r\n",
    "                 horizontalalignment=\"center\",\r\n",
    "                 color=\"white\" if cm[i, j] > thresh else \"black\")\r\n",
    "\r\n",
    "    plt.tight_layout()\r\n",
    "    plt.ylabel('True label')\r\n",
    "    plt.xlabel('Predicted label')\r\n"
   ]
  },
  {
   "cell_type": "code",
   "execution_count": 104,
   "metadata": {},
   "outputs": [
    {
     "name": "stdout",
     "output_type": "stream",
     "text": [
      "              precision    recall  f1-score   support\n",
      "\n",
      "       apple       1.00      1.00      1.00         3\n",
      "      banana       1.00      1.00      1.00         3\n",
      "      orange       1.00      1.00      1.00         3\n",
      "\n",
      "    accuracy                           1.00         9\n",
      "   macro avg       1.00      1.00      1.00         9\n",
      "weighted avg       1.00      1.00      1.00         9\n",
      "\n",
      "Confusion matrix, without normalization\n",
      "[[3 0 0]\n",
      " [0 3 0]\n",
      " [0 0 3]]\n",
      "Normalized confusion matrix\n",
      "[[1. 0. 0.]\n",
      " [0. 1. 0.]\n",
      " [0. 0. 1.]]\n"
     ]
    },
    {
     "data": {
      "image/png": "[encoded data removed]",
      "text/plain": "<Figure size 432x288 with 2 Axes>"
     },
     "metadata": {
      "needs_background": "light"
     },
     "output_type": "display_data"
    },
    {
     "data": {
      "image/png": "[encoded data removed]",
      "text/plain": "<Figure size 432x288 with 2 Axes>"
     },
     "metadata": {
      "needs_background": "light"
     },
     "output_type": "display_data"
    }
   ],
   "source": [
    "print(metrics.classification_report(y_true, y_pred))\r\n",
    "\r\n",
    "# Compute confusion matrix\r\n",
    "cnf_matrix = confusion_matrix(y_true, y_pred)\r\n",
    "np.set_printoptions(precision=2)\r\n",
    "\r\n",
    "# Plot non-normalized confusion matrix\r\n",
    "plt.figure()\r\n",
    "class_names = sorted(set(y_true))\r\n",
    "plot_confusion_matrix(cnf_matrix, classes=class_names,\r\n",
    "                      title='Confusion matrix, without normalization')\r\n",
    "\r\n",
    "# Plot normalized confusion matrix\r\n",
    "plt.figure()\r\n",
    "plot_confusion_matrix(cnf_matrix, classes=class_names, normalize=True,\r\n",
    "                      title='Normalized confusion matrix')\r\n",
    "\r\n",
    "plt.show()"
   ]
  },
  {
   "cell_type": "markdown",
   "metadata": {},
   "source": [
    "## Publish the current iteration\r\n"
   ]
  },
  {
   "cell_type": "code",
   "execution_count": 105,
   "metadata": {},
   "outputs": [
    {
     "data": {
      "text/plain": "True"
     },
     "execution_count": 105,
     "metadata": {},
     "output_type": "execute_result"
    }
   ],
   "source": [
    "trainer.publish_iteration(project.id, iteration.id, publish_iteration_name, prediction_resource_id)\r\n"
   ]
  },
  {
   "cell_type": "markdown",
   "metadata": {},
   "source": [
    "## Test the prediction endpoint\r\n"
   ]
  },
  {
   "cell_type": "code",
   "execution_count": 112,
   "metadata": {},
   "outputs": [
    {
     "name": "stdout",
     "output_type": "stream",
     "text": [
      "c:\\Users\\anacarolines\\OneDrive - Microsoft\\Projetos\\aiops-customvision\\Deploy\\test-images\n",
      "b58b8486-1acd-4236-aa29-b9d4ac2ce906\n",
      "IMG_TEST_1.jpg : apple (100%)\n",
      "b58b8486-1acd-4236-aa29-b9d4ac2ce906\n",
      "IMG_TEST_2.jpg : banana (100%)\n",
      "b58b8486-1acd-4236-aa29-b9d4ac2ce906\n",
      "IMG_TEST_3.jpg : orange (100%)\n",
      "b58b8486-1acd-4236-aa29-b9d4ac2ce906\n",
      "IMG_TEST_4.jpg : apple (58%)\n"
     ]
    }
   ],
   "source": [
    "# Classify test images\r\n",
    "test_img_dir = os.path.join(project_dir,'Deploy','test-images')\r\n",
    "print(test_img_dir)\r\n",
    "for image in os.listdir(test_img_dir):\r\n",
    "    image_data = open(os.path.join(test_img_dir,image), \"rb\").read()\r\n",
    "    print(project.id)\r\n",
    "    results = predictor.classify_image(project.id, publish_iteration_name, image_data)\r\n",
    "    #print(results)\r\n",
    "    # Loop over each label prediction and print any with probability > 50%\r\n",
    "    for prediction in results.predictions:\r\n",
    "        if prediction.probability > 0.2:\r\n",
    "            print(image, ': {} ({:.0%})'.format(prediction.tag_name, prediction.probability))\r\n"
   ]
  },
  {
   "cell_type": "code",
   "execution_count": 113,
   "metadata": {},
   "outputs": [
    {
     "data": {
      "text/plain": "['orange', 'apple', 'banana']"
     },
     "execution_count": 113,
     "metadata": {},
     "output_type": "execute_result"
    }
   ],
   "source": [
    "get_tags(project.id)"
   ]
  },
  {
   "cell_type": "code",
   "execution_count": 133,
   "metadata": {},
   "outputs": [
    {
     "name": "stdout",
     "output_type": "stream",
     "text": [
      "[{'tags': [{'id': 'ed1518fc-7efe-4eb4-a8a4-569d16804510', 'minThreshold': 0.8}]}, {'tags': [{'id': 'fa5e6c9c-c0d7-43c8-8b2c-bf9488dcae44', 'minThreshold': 0.8}]}, {'tags': [{'id': 'f3379d05-f484-457f-97c4-f75998206ebb', 'minThreshold': 0.8}]}]\n",
      "3\n"
     ]
    }
   ],
   "source": [
    "# Printar as tags que o modelo previu através do endpoint acime de 80% de prob\r\n",
    "#limite de duas queries por vez\r\n",
    "tags_ids = [t['id'] for t in trainer.get_tags(project.id, raw=True).response.json()]\r\n",
    "queries = []\r\n",
    "query_pred_bytags = {}\r\n",
    "query_pred_bytags['tags'] = []\r\n",
    "coringa = []\r\n",
    "threshold = 0.1\r\n",
    "counter = 1\r\n",
    "\r\n",
    "for i in tags_ids:\r\n",
    "    tags = []\r\n",
    "    tags.append({\"id\" : i,\r\n",
    "            \"minThreshold\" : threshold})\r\n",
    "    queries.append({\"tags\" : tags } )\r\n",
    "print (queries)\r\n",
    "print(len(queries))"
   ]
  },
  {
   "cell_type": "code",
   "execution_count": null,
   "metadata": {},
   "outputs": [],
   "source": []
  }
 ],
 "metadata": {
  "kernelspec": {
   "display_name": "Python 3.8.5 64-bit ('base': conda)",
   "name": "python385jvsc74a57bd0ae3aa6c730e1edb1dd98cf035d1e9499e7ec05eacdf7289be61cfcb5b0ba0660"
  },
  "language_info": {
   "codemirror_mode": {
    "name": "ipython",
    "version": 3
   },
   "file_extension": ".py",
   "mimetype": "text/x-python",
   "name": "python",
   "nbconvert_exporter": "python",
   "pygments_lexer": "ipython3",
   "version": "3.8.5"
  },
  "orig_nbformat": 2
 },
 "nbformat": 4,
 "nbformat_minor": 2
}